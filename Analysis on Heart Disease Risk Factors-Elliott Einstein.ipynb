{
 "cells": [
  {
   "cell_type": "code",
   "execution_count": 1,
   "id": "fe9770c6",
   "metadata": {},
   "outputs": [],
   "source": [
    "import pandas as pd\n",
    "import matplotlib.pyplot as plt\n",
    "from sklearn import linear_model\n",
    "import statsmodels.api as sm"
   ]
  },
  {
   "cell_type": "code",
   "execution_count": 2,
   "id": "059ef307",
   "metadata": {},
   "outputs": [
    {
     "data": {
      "text/html": [
       "<div>\n",
       "<style scoped>\n",
       "    .dataframe tbody tr th:only-of-type {\n",
       "        vertical-align: middle;\n",
       "    }\n",
       "\n",
       "    .dataframe tbody tr th {\n",
       "        vertical-align: top;\n",
       "    }\n",
       "\n",
       "    .dataframe thead th {\n",
       "        text-align: right;\n",
       "    }\n",
       "</style>\n",
       "<table border=\"1\" class=\"dataframe\">\n",
       "  <thead>\n",
       "    <tr style=\"text-align: right;\">\n",
       "      <th></th>\n",
       "      <th>HeartDisease</th>\n",
       "      <th>BMI</th>\n",
       "      <th>Smoking</th>\n",
       "      <th>AlcoholDrinking</th>\n",
       "      <th>Stroke</th>\n",
       "      <th>PhysicalHealth</th>\n",
       "      <th>MentalHealth</th>\n",
       "      <th>DiffWalking</th>\n",
       "      <th>Sex</th>\n",
       "      <th>AgeCategory</th>\n",
       "      <th>Race</th>\n",
       "      <th>Diabetic</th>\n",
       "      <th>PhysicalActivity</th>\n",
       "      <th>GenHealth</th>\n",
       "      <th>SleepTime</th>\n",
       "      <th>Asthma</th>\n",
       "      <th>KidneyDisease</th>\n",
       "      <th>SkinCancer</th>\n",
       "    </tr>\n",
       "  </thead>\n",
       "  <tbody>\n",
       "    <tr>\n",
       "      <th>0</th>\n",
       "      <td>0</td>\n",
       "      <td>16.60</td>\n",
       "      <td>1</td>\n",
       "      <td>0</td>\n",
       "      <td>0</td>\n",
       "      <td>3.0</td>\n",
       "      <td>30.0</td>\n",
       "      <td>0</td>\n",
       "      <td>0</td>\n",
       "      <td>7</td>\n",
       "      <td>0.0</td>\n",
       "      <td>1.0</td>\n",
       "      <td>1</td>\n",
       "      <td>1</td>\n",
       "      <td>5.0</td>\n",
       "      <td>1</td>\n",
       "      <td>0</td>\n",
       "      <td>1</td>\n",
       "    </tr>\n",
       "    <tr>\n",
       "      <th>1</th>\n",
       "      <td>0</td>\n",
       "      <td>20.34</td>\n",
       "      <td>0</td>\n",
       "      <td>0</td>\n",
       "      <td>1</td>\n",
       "      <td>0.0</td>\n",
       "      <td>0.0</td>\n",
       "      <td>0</td>\n",
       "      <td>0</td>\n",
       "      <td>12</td>\n",
       "      <td>0.0</td>\n",
       "      <td>0.0</td>\n",
       "      <td>1</td>\n",
       "      <td>1</td>\n",
       "      <td>7.0</td>\n",
       "      <td>0</td>\n",
       "      <td>0</td>\n",
       "      <td>0</td>\n",
       "    </tr>\n",
       "    <tr>\n",
       "      <th>2</th>\n",
       "      <td>0</td>\n",
       "      <td>26.58</td>\n",
       "      <td>1</td>\n",
       "      <td>0</td>\n",
       "      <td>0</td>\n",
       "      <td>20.0</td>\n",
       "      <td>30.0</td>\n",
       "      <td>0</td>\n",
       "      <td>1</td>\n",
       "      <td>9</td>\n",
       "      <td>0.0</td>\n",
       "      <td>1.0</td>\n",
       "      <td>1</td>\n",
       "      <td>3</td>\n",
       "      <td>8.0</td>\n",
       "      <td>1</td>\n",
       "      <td>0</td>\n",
       "      <td>0</td>\n",
       "    </tr>\n",
       "    <tr>\n",
       "      <th>3</th>\n",
       "      <td>0</td>\n",
       "      <td>24.21</td>\n",
       "      <td>0</td>\n",
       "      <td>0</td>\n",
       "      <td>0</td>\n",
       "      <td>0.0</td>\n",
       "      <td>0.0</td>\n",
       "      <td>0</td>\n",
       "      <td>0</td>\n",
       "      <td>10</td>\n",
       "      <td>0.0</td>\n",
       "      <td>0.0</td>\n",
       "      <td>0</td>\n",
       "      <td>2</td>\n",
       "      <td>6.0</td>\n",
       "      <td>0</td>\n",
       "      <td>0</td>\n",
       "      <td>1</td>\n",
       "    </tr>\n",
       "    <tr>\n",
       "      <th>4</th>\n",
       "      <td>0</td>\n",
       "      <td>23.71</td>\n",
       "      <td>0</td>\n",
       "      <td>0</td>\n",
       "      <td>0</td>\n",
       "      <td>28.0</td>\n",
       "      <td>0.0</td>\n",
       "      <td>1</td>\n",
       "      <td>0</td>\n",
       "      <td>4</td>\n",
       "      <td>0.0</td>\n",
       "      <td>0.0</td>\n",
       "      <td>1</td>\n",
       "      <td>1</td>\n",
       "      <td>8.0</td>\n",
       "      <td>0</td>\n",
       "      <td>0</td>\n",
       "      <td>0</td>\n",
       "    </tr>\n",
       "  </tbody>\n",
       "</table>\n",
       "</div>"
      ],
      "text/plain": [
       "   HeartDisease    BMI  Smoking  AlcoholDrinking  Stroke  PhysicalHealth  \\\n",
       "0             0  16.60        1                0       0             3.0   \n",
       "1             0  20.34        0                0       1             0.0   \n",
       "2             0  26.58        1                0       0            20.0   \n",
       "3             0  24.21        0                0       0             0.0   \n",
       "4             0  23.71        0                0       0            28.0   \n",
       "\n",
       "   MentalHealth  DiffWalking  Sex  AgeCategory  Race  Diabetic  \\\n",
       "0          30.0            0    0            7   0.0       1.0   \n",
       "1           0.0            0    0           12   0.0       0.0   \n",
       "2          30.0            0    1            9   0.0       1.0   \n",
       "3           0.0            0    0           10   0.0       0.0   \n",
       "4           0.0            1    0            4   0.0       0.0   \n",
       "\n",
       "   PhysicalActivity  GenHealth  SleepTime  Asthma  KidneyDisease  SkinCancer  \n",
       "0                 1          1        5.0       1              0           1  \n",
       "1                 1          1        7.0       0              0           0  \n",
       "2                 1          3        8.0       1              0           0  \n",
       "3                 0          2        6.0       0              0           1  \n",
       "4                 1          1        8.0       0              0           0  "
      ]
     },
     "execution_count": 2,
     "metadata": {},
     "output_type": "execute_result"
    }
   ],
   "source": [
    "heart_disease= pd.read_csv(\"heart_disease_encoded.csv\")\n",
    "heart_disease.head()"
   ]
  },
  {
   "cell_type": "code",
   "execution_count": 3,
   "id": "9d423e5c",
   "metadata": {},
   "outputs": [
    {
     "name": "stdout",
     "output_type": "stream",
     "text": [
      "<class 'pandas.core.frame.DataFrame'>\n",
      "RangeIndex: 302823 entries, 0 to 302822\n",
      "Data columns (total 18 columns):\n",
      " #   Column            Non-Null Count   Dtype  \n",
      "---  ------            --------------   -----  \n",
      " 0   HeartDisease      302823 non-null  int64  \n",
      " 1   BMI               302823 non-null  float64\n",
      " 2   Smoking           302823 non-null  int64  \n",
      " 3   AlcoholDrinking   302823 non-null  int64  \n",
      " 4   Stroke            302823 non-null  int64  \n",
      " 5   PhysicalHealth    302823 non-null  float64\n",
      " 6   MentalHealth      302823 non-null  float64\n",
      " 7   DiffWalking       302823 non-null  int64  \n",
      " 8   Sex               302823 non-null  int64  \n",
      " 9   AgeCategory       302823 non-null  int64  \n",
      " 10  Race              302823 non-null  float64\n",
      " 11  Diabetic          302823 non-null  float64\n",
      " 12  PhysicalActivity  302823 non-null  int64  \n",
      " 13  GenHealth         302823 non-null  int64  \n",
      " 14  SleepTime         302823 non-null  float64\n",
      " 15  Asthma            302823 non-null  int64  \n",
      " 16  KidneyDisease     302823 non-null  int64  \n",
      " 17  SkinCancer        302823 non-null  int64  \n",
      "dtypes: float64(6), int64(12)\n",
      "memory usage: 41.6 MB\n"
     ]
    }
   ],
   "source": [
    "heart_disease.info()"
   ]
  },
  {
   "cell_type": "code",
   "execution_count": 4,
   "id": "1f29b54c",
   "metadata": {},
   "outputs": [
    {
     "data": {
      "text/plain": [
       "HeartDisease        False\n",
       "BMI                 False\n",
       "Smoking             False\n",
       "AlcoholDrinking     False\n",
       "Stroke              False\n",
       "PhysicalHealth      False\n",
       "MentalHealth        False\n",
       "DiffWalking         False\n",
       "Sex                 False\n",
       "AgeCategory         False\n",
       "Race                False\n",
       "Diabetic            False\n",
       "PhysicalActivity    False\n",
       "GenHealth           False\n",
       "SleepTime           False\n",
       "Asthma              False\n",
       "KidneyDisease       False\n",
       "SkinCancer          False\n",
       "dtype: bool"
      ]
     },
     "execution_count": 4,
     "metadata": {},
     "output_type": "execute_result"
    }
   ],
   "source": [
    "heart_disease.isnull().any()"
   ]
  },
  {
   "cell_type": "markdown",
   "id": "6de22835",
   "metadata": {},
   "source": [
    "## Elliott’s Questions: \n",
    "\n",
    "\n",
    "### 1. Does biological sex and bmi influence if someone develops a heart disease or not? \n"
   ]
  },
  {
   "cell_type": "code",
   "execution_count": 5,
   "id": "5148011e",
   "metadata": {},
   "outputs": [
    {
     "data": {
      "image/png": "[encoded data removed]",
      "text/plain": [
       "<Figure size 432x288 with 1 Axes>"
      ]
     },
     "metadata": {
      "needs_background": "light"
     },
     "output_type": "display_data"
    }
   ],
   "source": [
    "plt.scatter(heart_disease['Sex'], heart_disease['HeartDisease'], color='red')\n",
    "plt.title('Heart Disease Vs Sex', fontsize=14)\n",
    "plt.xlabel('Sex', fontsize=14)\n",
    "plt.ylabel('HeartDisease', fontsize=14)\n",
    "plt.grid(True)\n",
    "plt.show()"
   ]
  },
  {
   "cell_type": "code",
   "execution_count": 6,
   "id": "163aea72",
   "metadata": {},
   "outputs": [
    {
     "data": {
      "image/png": "[encoded data removed]",
      "text/plain": [
       "<Figure size 432x288 with 1 Axes>"
      ]
     },
     "metadata": {
      "needs_background": "light"
     },
     "output_type": "display_data"
    }
   ],
   "source": [
    "plt.scatter(heart_disease['BMI'], heart_disease['HeartDisease'], color='green')\n",
    "plt.title('HeartDisease Vs BMI', fontsize=14)\n",
    "plt.xlabel('BMI', fontsize=14)\n",
    "plt.ylabel('HeartDisease', fontsize=14)\n",
    "plt.grid(True)\n",
    "plt.show()"
   ]
  },
  {
   "cell_type": "code",
   "execution_count": 7,
   "id": "eb0e2dea",
   "metadata": {},
   "outputs": [
    {
     "name": "stdout",
     "output_type": "stream",
     "text": [
      "Intercept: \n",
      " 0.007517458631582985\n",
      "Coefficients: \n",
      " [0.00214217 0.03833132]\n",
      "Enter your Sex Male \"1\", Female \"0\":1\n",
      "Enter your BMI \n",
      "(If Unknown, Visit https://www.nhlbi.nih.gov/health/educational/lose_wt/BMI/bmicalc.htm):22\n",
      "Predicted Heart Disease: \n",
      " [0.85294868]\n",
      "                            OLS Regression Results                            \n",
      "==============================================================================\n",
      "Dep. Variable:           HeartDisease   R-squared:                       0.007\n",
      "Model:                            OLS   Adj. R-squared:                  0.007\n",
      "Method:                 Least Squares   F-statistic:                     1091.\n",
      "Date:                Sun, 24 Apr 2022   Prob (F-statistic):               0.00\n",
      "Time:                        23:21:43   Log-Likelihood:                -44440.\n",
      "No. Observations:              302823   AIC:                         8.889e+04\n",
      "Df Residuals:                  302820   BIC:                         8.892e+04\n",
      "Df Model:                           2                                         \n",
      "Covariance Type:            nonrobust                                         \n",
      "==============================================================================\n",
      "                 coef    std err          t      P>|t|      [0.025      0.975]\n",
      "------------------------------------------------------------------------------\n",
      "const          0.0075      0.002      3.171      0.002       0.003       0.012\n",
      "BMI            0.0021   8.03e-05     26.667      0.000       0.002       0.002\n",
      "Sex            0.0383      0.001     37.587      0.000       0.036       0.040\n",
      "==============================================================================\n",
      "Omnibus:                   172609.561   Durbin-Watson:                   1.967\n",
      "Prob(Omnibus):                  0.000   Jarque-Bera (JB):           968055.928\n",
      "Skew:                           2.908   Prob(JB):                         0.00\n",
      "Kurtosis:                       9.549   Cond. No.                         136.\n",
      "==============================================================================\n",
      "\n",
      "Notes:\n",
      "[1] Standard Errors assume that the covariance matrix of the errors is correctly specified.\n"
     ]
    },
    {
     "name": "stderr",
     "output_type": "stream",
     "text": [
      "C:\\Users\\ellio\\anaconda3\\lib\\site-packages\\sklearn\\utils\\validation.py:63: FutureWarning: Arrays of bytes/strings is being converted to decimal numbers if dtype='numeric'. This behavior is deprecated in 0.24 and will be removed in 1.1 (renaming of 0.26). Please convert your data to numeric values explicitly instead.\n",
      "  return f(*args, **kwargs)\n"
     ]
    }
   ],
   "source": [
    "X = heart_disease[['BMI','Sex']]  \n",
    "Y = heart_disease['HeartDisease']\n",
    " \n",
    "# with sklearn\n",
    "regr = linear_model.LinearRegression()\n",
    "regr.fit(X, Y)\n",
    "\n",
    "print('Intercept: \\n', regr.intercept_)\n",
    "print('Coefficients: \\n', regr.coef_)\n",
    "\n",
    "# # prediction with sklearn\n",
    "Input_Sex = input('Enter your Sex Male \"1\", Female \"0\":')\n",
    "Input_BMI = input('Enter your BMI \\n(If Unknown, Visit https://www.nhlbi.nih.gov/health/educational/lose_wt/BMI/bmicalc.htm):')\n",
    "print ('Predicted Heart Disease: \\n', regr.predict([[Input_Sex ,Input_BMI ]]))\n",
    "\n",
    "# with statsmodels\n",
    "X = sm.add_constant(X) # adding a constant\n",
    " \n",
    "model = sm.OLS(Y, X).fit()\n",
    "predictions = model.predict(X) \n",
    " \n",
    "print_model = model.summary()\n",
    "print(print_model)"
   ]
  },
  {
   "cell_type": "code",
   "execution_count": 8,
   "id": "20335ec4",
   "metadata": {},
   "outputs": [
    {
     "data": {
      "text/plain": [
       "0.852948668631583"
      ]
     },
     "execution_count": 8,
     "metadata": {},
     "output_type": "execute_result"
    }
   ],
   "source": [
    "Heart_Disease_mult_regression_formula = (0.007517458631582985) + (0.00214217)*1 + (0.03833132)*22\n",
    "Heart_Disease_mult_regression_formula"
   ]
  },
  {
   "cell_type": "code",
   "execution_count": 9,
   "id": "bbdc1d76",
   "metadata": {},
   "outputs": [],
   "source": [
    "import tkinter as tk \n",
    "from matplotlib.backends.backend_tkagg import FigureCanvasTkAgg"
   ]
  },
  {
   "cell_type": "code",
   "execution_count": 10,
   "id": "64744830",
   "metadata": {},
   "outputs": [
    {
     "name": "stdout",
     "output_type": "stream",
     "text": [
      "Intercept: \n",
      " 0.007517458631582985\n",
      "Coefficients: \n",
      " [0.00214217 0.03833132]\n"
     ]
    }
   ],
   "source": [
    "X = heart_disease[['BMI','Sex']].astype(float)\n",
    "Y = heart_disease['HeartDisease'].astype(float)\n",
    " \n",
    "# with sklearn\n",
    "regr = linear_model.LinearRegression()\n",
    "regr.fit(X, Y)\n",
    "\n",
    "print('Intercept: \\n', regr.intercept_)\n",
    "print('Coefficients: \\n', regr.coef_)\n",
    "\n",
    "# tkinter GUI\n",
    "root= tk.Tk()\n",
    "\n",
    "canvas1 = tk.Canvas(root, width = 500, height = 300)\n",
    "canvas1.pack()\n",
    "\n",
    "# with sklearn\n",
    "Intercept_result = ('Intercept: ', regr.intercept_)\n",
    "label_Intercept = tk.Label(root, text=Intercept_result, justify = 'center')\n",
    "canvas1.create_window(260, 220, window=label_Intercept)\n",
    "\n",
    "# with sklearn\n",
    "Coefficients_result  = ('Coefficients: ', regr.coef_)\n",
    "label_Coefficients = tk.Label(root, text=Coefficients_result, justify = 'center')\n",
    "canvas1.create_window(260, 240, window=label_Coefficients)\n",
    "\n",
    "# New_Sex label and input box\n",
    "label1 = tk.Label(root, text='Enter your Sex Male \"1\", Female \"0\": ')\n",
    "canvas1.create_window(100, 100, window=label1)\n",
    "\n",
    "entry1 = tk.Entry (root) # create 1st entry box\n",
    "canvas1.create_window(270, 100, window=entry1)\n",
    "\n",
    "# New_BMI label and input box\n",
    "label2 = tk.Label(root, text='Enter your BMI:')\n",
    "canvas1.create_window(120, 120, window=label2)\n",
    "\n",
    "entry2 = tk.Entry (root) # create 2nd entry box\n",
    "canvas1.create_window(270, 120, window=entry2)\n",
    "\n",
    "def values(): \n",
    "    global The_inputted_Sex #our 1st input variable\n",
    "    Your_Sex = float(entry1.get()) \n",
    "    \n",
    "    global The_inputted_BMI #our 2nd input variable\n",
    "    Your_BMI = float(entry2.get()) \n",
    "    \n",
    "    Prediction_result  = ('Predicted Heart Disease: ', regr.predict([[Your_Sex ,Your_BMI]]))\n",
    "    label_Prediction = tk.Label(root, text= Prediction_result, bg='orange')\n",
    "    canvas1.create_window(260, 280, window=label_Prediction)\n",
    "    \n",
    "button1 = tk.Button (root, text='Predict Heart Disease',command=values, bg='orange') # button to call the 'values' command above \n",
    "canvas1.create_window(270, 150, window=button1)\n",
    " \n",
    "#plot 1st scatter \n",
    "figure3 = plt.Figure(figsize=(5,4), dpi=100)\n",
    "ax3 = figure3.add_subplot(111)\n",
    "ax3.scatter(heart_disease['Sex'].astype(float),heart_disease['BMI'].astype(float), color = 'r')\n",
    "scatter3 = FigureCanvasTkAgg(figure3, root) \n",
    "scatter3.get_tk_widget().pack(side=tk.RIGHT, fill=tk.BOTH)\n",
    "ax3.legend(['Heart Disease']) \n",
    "ax3.set_xlabel('Sex')\n",
    "ax3.set_title('Sex Vs. Heart Disease')\n",
    "\n",
    "#plot 2nd scatter \n",
    "figure4 = plt.Figure(figsize=(5,4), dpi=100)\n",
    "ax4 = figure4.add_subplot(111)\n",
    "ax4.scatter(heart_disease['BMI'].astype(float),heart_disease['HeartDisease'].astype(float), color = 'g')\n",
    "scatter4 = FigureCanvasTkAgg(figure4, root) \n",
    "scatter4.get_tk_widget().pack(side=tk.RIGHT, fill=tk.BOTH)\n",
    "ax4.legend(['Heart Disease']) \n",
    "ax4.set_xlabel('BMI')\n",
    "ax4.set_title('BMI Vs. Heart Disease')\n",
    "\n",
    "root.mainloop()"
   ]
  },
  {
   "cell_type": "markdown",
   "id": "6ad80abf",
   "metadata": {},
   "source": [
    "### 2.  Does BMI and kidney disease influence if someone develops heart disease? \n"
   ]
  },
  {
   "cell_type": "code",
   "execution_count": 11,
   "id": "121274c7",
   "metadata": {},
   "outputs": [
    {
     "data": {
      "image/png": "[encoded data removed]",
      "text/plain": [
       "<Figure size 432x288 with 1 Axes>"
      ]
     },
     "metadata": {
      "needs_background": "light"
     },
     "output_type": "display_data"
    }
   ],
   "source": [
    "plt.scatter(heart_disease['KidneyDisease'], heart_disease['HeartDisease'], color='red')\n",
    "plt.title('Heart Disease Vs KidneyDisease', fontsize=14)\n",
    "plt.xlabel('KidneyDisease', fontsize=14)\n",
    "plt.ylabel('HeartDisease', fontsize=14)\n",
    "plt.grid(True)\n",
    "plt.show()"
   ]
  },
  {
   "cell_type": "code",
   "execution_count": 12,
   "id": "7494aafa",
   "metadata": {},
   "outputs": [
    {
     "data": {
      "image/png": "[encoded data removed]",
      "text/plain": [
       "<Figure size 432x288 with 1 Axes>"
      ]
     },
     "metadata": {
      "needs_background": "light"
     },
     "output_type": "display_data"
    }
   ],
   "source": [
    "plt.scatter(heart_disease['BMI'], heart_disease['HeartDisease'], color='green')\n",
    "plt.title('HeartDisease Vs BMI', fontsize=14)\n",
    "plt.xlabel('BMI', fontsize=14)\n",
    "plt.ylabel('HeartDisease', fontsize=14)\n",
    "plt.grid(True)\n",
    "plt.show()"
   ]
  },
  {
   "cell_type": "code",
   "execution_count": 13,
   "id": "badce930",
   "metadata": {},
   "outputs": [
    {
     "name": "stdout",
     "output_type": "stream",
     "text": [
      "Intercept: \n",
      " 0.024608234818920577\n",
      "Coefficients: \n",
      " [0.00190591 0.21301384]\n",
      "Enter if you had kidney disease Yes \"1\", No \"0\":1\n",
      "Enter your BMI \n",
      "(If Unknown, Visit https://www.nhlbi.nih.gov/health/educational/lose_wt/BMI/bmicalc.htm):22\n",
      "Predicted Heart Disease: \n",
      " [4.71281869]\n",
      "                            OLS Regression Results                            \n",
      "==============================================================================\n",
      "Dep. Variable:           HeartDisease   R-squared:                       0.023\n",
      "Model:                            OLS   Adj. R-squared:                  0.023\n",
      "Method:                 Least Squares   F-statistic:                     3574.\n",
      "Date:                Sun, 24 Apr 2022   Prob (F-statistic):               0.00\n",
      "Time:                        23:22:15   Log-Likelihood:                -41995.\n",
      "No. Observations:              302823   AIC:                         8.400e+04\n",
      "Df Residuals:                  302820   BIC:                         8.403e+04\n",
      "Df Model:                           2                                         \n",
      "Covariance Type:            nonrobust                                         \n",
      "=================================================================================\n",
      "                    coef    std err          t      P>|t|      [0.025      0.975]\n",
      "---------------------------------------------------------------------------------\n",
      "const             0.0246      0.002     10.634      0.000       0.020       0.029\n",
      "BMI               0.0019   7.98e-05     23.897      0.000       0.002       0.002\n",
      "KidneyDisease     0.2130      0.003     79.781      0.000       0.208       0.218\n",
      "==============================================================================\n",
      "Omnibus:                   170788.563   Durbin-Watson:                   1.974\n",
      "Prob(Omnibus):                  0.000   Jarque-Bera (JB):           958109.068\n",
      "Skew:                           2.866   Prob(JB):                         0.00\n",
      "Kurtosis:                       9.564   Cond. No.                         154.\n",
      "==============================================================================\n",
      "\n",
      "Notes:\n",
      "[1] Standard Errors assume that the covariance matrix of the errors is correctly specified.\n"
     ]
    },
    {
     "name": "stderr",
     "output_type": "stream",
     "text": [
      "C:\\Users\\ellio\\anaconda3\\lib\\site-packages\\sklearn\\utils\\validation.py:63: FutureWarning: Arrays of bytes/strings is being converted to decimal numbers if dtype='numeric'. This behavior is deprecated in 0.24 and will be removed in 1.1 (renaming of 0.26). Please convert your data to numeric values explicitly instead.\n",
      "  return f(*args, **kwargs)\n"
     ]
    }
   ],
   "source": [
    "X = heart_disease[['BMI','KidneyDisease']]  \n",
    "Y = heart_disease['HeartDisease']\n",
    " \n",
    "# with sklearn\n",
    "regr = linear_model.LinearRegression()\n",
    "regr.fit(X, Y)\n",
    "\n",
    "print('Intercept: \\n', regr.intercept_)\n",
    "print('Coefficients: \\n', regr.coef_)\n",
    "\n",
    "# # prediction with sklearn\n",
    "Input_KD = input('Enter if you had kidney disease Yes \"1\", No \"0\":')\n",
    "Input_BMI = input('Enter your BMI \\n(If Unknown, Visit https://www.nhlbi.nih.gov/health/educational/lose_wt/BMI/bmicalc.htm):')\n",
    "print ('Predicted Heart Disease: \\n', regr.predict([[Input_KD ,Input_BMI ]]))\n",
    "\n",
    "# with statsmodels\n",
    "X = sm.add_constant(X) # adding a constant\n",
    " \n",
    "model = sm.OLS(Y, X).fit()\n",
    "predictions = model.predict(X) \n",
    " \n",
    "print_model = model.summary()\n",
    "print(print_model)"
   ]
  },
  {
   "cell_type": "code",
   "execution_count": 14,
   "id": "d4a83ee3",
   "metadata": {},
   "outputs": [
    {
     "data": {
      "text/plain": [
       "2.3677604748189207"
      ]
     },
     "execution_count": 14,
     "metadata": {},
     "output_type": "execute_result"
    }
   ],
   "source": [
    "Heart_Disease_mult_regression_formula_2 = (0.024608234818920577) + (0.00190591)*0 + (0.21301384)*11\n",
    "Heart_Disease_mult_regression_formula_2"
   ]
  },
  {
   "cell_type": "code",
   "execution_count": 15,
   "id": "1d39a12e",
   "metadata": {},
   "outputs": [
    {
     "name": "stdout",
     "output_type": "stream",
     "text": [
      "Intercept: \n",
      " 0.024608234818920577\n",
      "Coefficients: \n",
      " [0.00190591 0.21301384]\n"
     ]
    }
   ],
   "source": [
    "X = heart_disease[['BMI','KidneyDisease']].astype(float)\n",
    "Y = heart_disease['HeartDisease'].astype(float)\n",
    "# with sklearn\n",
    "regr = linear_model.LinearRegression()\n",
    "regr.fit(X, Y)\n",
    "\n",
    "print('Intercept: \\n', regr.intercept_)\n",
    "print('Coefficients: \\n', regr.coef_)\n",
    "\n",
    "# tkinter GUI\n",
    "root= tk.Tk()\n",
    "\n",
    "canvas1 = tk.Canvas(root, width = 500, height = 300)\n",
    "canvas1.pack()\n",
    "\n",
    "# with sklearn\n",
    "Intercept_result = ('Intercept: ', regr.intercept_)\n",
    "label_Intercept = tk.Label(root, text=Intercept_result, justify = 'center')\n",
    "canvas1.create_window(260, 220, window=label_Intercept)\n",
    "\n",
    "# with sklearn\n",
    "Coefficients_result  = ('Coefficients: ', regr.coef_)\n",
    "label_Coefficients = tk.Label(root, text=Coefficients_result, justify = 'center')\n",
    "canvas1.create_window(260, 240, window=label_Coefficients)\n",
    "\n",
    "# New_KD label and input box\n",
    "label1 = tk.Label(root, text='Enter if you had kidney disease Yes \"1\", No \"0\":')\n",
    "canvas1.create_window(100, 100, window=label1)\n",
    "\n",
    "entry1 = tk.Entry (root) # create 1st entry box\n",
    "canvas1.create_window(270, 100, window=entry1)\n",
    "\n",
    "# New_BMI label and input box\n",
    "label2 = tk.Label(root, text='Enter your BMI:')\n",
    "canvas1.create_window(120, 120, window=label2)\n",
    "\n",
    "entry2 = tk.Entry (root) # create 2nd entry box\n",
    "canvas1.create_window(270, 120, window=entry2)\n",
    "\n",
    "def values(): \n",
    "    global The_inputted_kidney_disease #our 1st input variable\n",
    "    Your_KD = float(entry1.get()) \n",
    "    \n",
    "    global The_inputted_BMI #our 2nd input variable\n",
    "    Your_BMI = float(entry2.get()) \n",
    "    \n",
    "    Prediction_result  = ('Predicted Heart Disease: ', regr.predict([[Your_KD ,Your_BMI]]))\n",
    "    label_Prediction = tk.Label(root, text= Prediction_result, bg='orange')\n",
    "    canvas1.create_window(260, 280, window=label_Prediction)\n",
    "    \n",
    "button1 = tk.Button (root, text='Predict Heart Disease',command=values, bg='orange') # button to call the 'values' command above \n",
    "canvas1.create_window(270, 150, window=button1)\n",
    " \n",
    "#plot 1st scatter \n",
    "figure3 = plt.Figure(figsize=(5,4), dpi=100)\n",
    "ax3 = figure3.add_subplot(111)\n",
    "ax3.scatter(heart_disease['KidneyDisease'].astype(float),heart_disease['BMI'].astype(float), color = 'r')\n",
    "scatter3 = FigureCanvasTkAgg(figure3, root) \n",
    "scatter3.get_tk_widget().pack(side=tk.RIGHT, fill=tk.BOTH)\n",
    "ax3.legend(['Heart Disease']) \n",
    "ax3.set_xlabel('KidneyDisease')\n",
    "ax3.set_title('KidneyDisease Vs. Heart Disease')\n",
    "\n",
    "#plot 2nd scatter \n",
    "figure4 = plt.Figure(figsize=(5,4), dpi=100)\n",
    "ax4 = figure4.add_subplot(111)\n",
    "ax4.scatter(heart_disease['BMI'].astype(float),heart_disease['HeartDisease'].astype(float), color = 'g')\n",
    "scatter4 = FigureCanvasTkAgg(figure4, root) \n",
    "scatter4.get_tk_widget().pack(side=tk.RIGHT, fill=tk.BOTH)\n",
    "ax4.legend(['Heart Disease']) \n",
    "ax4.set_xlabel('BMI')\n",
    "ax4.set_title('BMI Vs. Heart Disease')\n",
    "\n",
    "root.mainloop()"
   ]
  },
  {
   "cell_type": "code",
   "execution_count": null,
   "id": "12586e55",
   "metadata": {},
   "outputs": [],
   "source": []
  }
 ],
 "metadata": {
  "kernelspec": {
   "display_name": "Python 3",
   "language": "python",
   "name": "python3"
  },
  "language_info": {
   "codemirror_mode": {
    "name": "ipython",
    "version": 3
   },
   "file_extension": ".py",
   "mimetype": "text/x-python",
   "name": "python",
   "nbconvert_exporter": "python",
   "pygments_lexer": "ipython3",
   "version": "3.8.8"
  }
 },
 "nbformat": 4,
 "nbformat_minor": 5
}

{
 "cells": [
  {
   "cell_type": "code",
   "execution_count": 7,
   "id": "ab3c0629",
   "metadata": {},
   "outputs": [],
   "source": [
    "import numpy as np\n",
    "import pandas as pd \n",
    "import os\n",
    "import plotly.express as px\n",
    "import matplotlib.pyplot as plt"
   ]
  },
  {
   "cell_type": "code",
   "execution_count": 8,
   "id": "f8c8a214",
   "metadata": {},
   "outputs": [],
   "source": [
    "from scipy.stats import linregress\n",
    "from sklearn import datasets\n",
    "import numpy as np\n",
    "import scipy.stats as sp\n",
    "import datetime"
   ]
  },
  {
   "cell_type": "code",
   "execution_count": 9,
   "id": "81257b2c",
   "metadata": {},
   "outputs": [],
   "source": [
    "from sklearn import datasets\n",
    "import statsmodels.api as sm\n",
    "import scipy.stats as stats"
   ]
  },
  {
   "cell_type": "code",
   "execution_count": 10,
   "id": "0e957260",
   "metadata": {},
   "outputs": [],
   "source": [
    "from statsmodels.formula.api import ols\n",
    "from scipy.stats import chi2_contingency\n",
    "from scipy.stats import chi2"
   ]
  },
  {
   "cell_type": "markdown",
   "id": "74e3950f",
   "metadata": {},
   "source": [
    "# Importing Data"
   ]
  },
  {
   "cell_type": "code",
   "execution_count": 6,
   "id": "560fe8fb",
   "metadata": {},
   "outputs": [
    {
     "data": {
      "text/html": [
       "<div>\n",
       "<style scoped>\n",
       "    .dataframe tbody tr th:only-of-type {\n",
       "        vertical-align: middle;\n",
       "    }\n",
       "\n",
       "    .dataframe tbody tr th {\n",
       "        vertical-align: top;\n",
       "    }\n",
       "\n",
       "    .dataframe thead th {\n",
       "        text-align: right;\n",
       "    }\n",
       "</style>\n",
       "<table border=\"1\" class=\"dataframe\">\n",
       "  <thead>\n",
       "    <tr style=\"text-align: right;\">\n",
       "      <th></th>\n",
       "      <th>HeartDisease</th>\n",
       "      <th>BMI</th>\n",
       "      <th>Smoking</th>\n",
       "      <th>AlcoholDrinking</th>\n",
       "      <th>Stroke</th>\n",
       "      <th>PhysicalHealth</th>\n",
       "      <th>MentalHealth</th>\n",
       "      <th>DiffWalking</th>\n",
       "      <th>Sex</th>\n",
       "      <th>AgeCategory</th>\n",
       "      <th>Race</th>\n",
       "      <th>Diabetic</th>\n",
       "      <th>PhysicalActivity</th>\n",
       "      <th>GenHealth</th>\n",
       "      <th>SleepTime</th>\n",
       "      <th>Asthma</th>\n",
       "      <th>KidneyDisease</th>\n",
       "      <th>SkinCancer</th>\n",
       "    </tr>\n",
       "  </thead>\n",
       "  <tbody>\n",
       "    <tr>\n",
       "      <th>0</th>\n",
       "      <td>No</td>\n",
       "      <td>16.60</td>\n",
       "      <td>Yes</td>\n",
       "      <td>No</td>\n",
       "      <td>No</td>\n",
       "      <td>3.0</td>\n",
       "      <td>30.0</td>\n",
       "      <td>No</td>\n",
       "      <td>Female</td>\n",
       "      <td>55-59</td>\n",
       "      <td>White</td>\n",
       "      <td>Yes</td>\n",
       "      <td>Yes</td>\n",
       "      <td>Very good</td>\n",
       "      <td>5.0</td>\n",
       "      <td>Yes</td>\n",
       "      <td>No</td>\n",
       "      <td>Yes</td>\n",
       "    </tr>\n",
       "    <tr>\n",
       "      <th>1</th>\n",
       "      <td>No</td>\n",
       "      <td>20.34</td>\n",
       "      <td>No</td>\n",
       "      <td>No</td>\n",
       "      <td>Yes</td>\n",
       "      <td>0.0</td>\n",
       "      <td>0.0</td>\n",
       "      <td>No</td>\n",
       "      <td>Female</td>\n",
       "      <td>80 or older</td>\n",
       "      <td>White</td>\n",
       "      <td>No</td>\n",
       "      <td>Yes</td>\n",
       "      <td>Very good</td>\n",
       "      <td>7.0</td>\n",
       "      <td>No</td>\n",
       "      <td>No</td>\n",
       "      <td>No</td>\n",
       "    </tr>\n",
       "    <tr>\n",
       "      <th>2</th>\n",
       "      <td>No</td>\n",
       "      <td>26.58</td>\n",
       "      <td>Yes</td>\n",
       "      <td>No</td>\n",
       "      <td>No</td>\n",
       "      <td>20.0</td>\n",
       "      <td>30.0</td>\n",
       "      <td>No</td>\n",
       "      <td>Male</td>\n",
       "      <td>65-69</td>\n",
       "      <td>White</td>\n",
       "      <td>Yes</td>\n",
       "      <td>Yes</td>\n",
       "      <td>Fair</td>\n",
       "      <td>8.0</td>\n",
       "      <td>Yes</td>\n",
       "      <td>No</td>\n",
       "      <td>No</td>\n",
       "    </tr>\n",
       "    <tr>\n",
       "      <th>3</th>\n",
       "      <td>No</td>\n",
       "      <td>24.21</td>\n",
       "      <td>No</td>\n",
       "      <td>No</td>\n",
       "      <td>No</td>\n",
       "      <td>0.0</td>\n",
       "      <td>0.0</td>\n",
       "      <td>No</td>\n",
       "      <td>Female</td>\n",
       "      <td>75-79</td>\n",
       "      <td>White</td>\n",
       "      <td>No</td>\n",
       "      <td>No</td>\n",
       "      <td>Good</td>\n",
       "      <td>6.0</td>\n",
       "      <td>No</td>\n",
       "      <td>No</td>\n",
       "      <td>Yes</td>\n",
       "    </tr>\n",
       "    <tr>\n",
       "      <th>4</th>\n",
       "      <td>No</td>\n",
       "      <td>23.71</td>\n",
       "      <td>No</td>\n",
       "      <td>No</td>\n",
       "      <td>No</td>\n",
       "      <td>28.0</td>\n",
       "      <td>0.0</td>\n",
       "      <td>Yes</td>\n",
       "      <td>Female</td>\n",
       "      <td>40-44</td>\n",
       "      <td>White</td>\n",
       "      <td>No</td>\n",
       "      <td>Yes</td>\n",
       "      <td>Very good</td>\n",
       "      <td>8.0</td>\n",
       "      <td>No</td>\n",
       "      <td>No</td>\n",
       "      <td>No</td>\n",
       "    </tr>\n",
       "  </tbody>\n",
       "</table>\n",
       "</div>"
      ],
      "text/plain": [
       "  HeartDisease    BMI Smoking AlcoholDrinking Stroke  PhysicalHealth  \\\n",
       "0           No  16.60     Yes              No     No             3.0   \n",
       "1           No  20.34      No              No    Yes             0.0   \n",
       "2           No  26.58     Yes              No     No            20.0   \n",
       "3           No  24.21      No              No     No             0.0   \n",
       "4           No  23.71      No              No     No            28.0   \n",
       "\n",
       "   MentalHealth DiffWalking     Sex  AgeCategory   Race Diabetic  \\\n",
       "0          30.0          No  Female        55-59  White      Yes   \n",
       "1           0.0          No  Female  80 or older  White       No   \n",
       "2          30.0          No    Male        65-69  White      Yes   \n",
       "3           0.0          No  Female        75-79  White       No   \n",
       "4           0.0         Yes  Female        40-44  White       No   \n",
       "\n",
       "  PhysicalActivity  GenHealth  SleepTime Asthma KidneyDisease SkinCancer  \n",
       "0              Yes  Very good        5.0    Yes            No        Yes  \n",
       "1              Yes  Very good        7.0     No            No         No  \n",
       "2              Yes       Fair        8.0    Yes            No         No  \n",
       "3               No       Good        6.0     No            No        Yes  \n",
       "4              Yes  Very good        8.0     No            No         No  "
      ]
     },
     "execution_count": 6,
     "metadata": {},
     "output_type": "execute_result"
    }
   ],
   "source": [
    "heart_disease= pd.read_csv(\"heart_2020_cleaned.csv\")\n",
    "\n",
    "heart_disease.head()"
   ]
  },
  {
   "cell_type": "markdown",
   "id": "b91d840e",
   "metadata": {},
   "source": [
    "# Filtering Data"
   ]
  },
  {
   "cell_type": "code",
   "execution_count": 12,
   "id": "f14db86f",
   "metadata": {},
   "outputs": [
    {
     "data": {
      "text/plain": [
       "array(['55-59', '80 or older', '65-69', '75-79', '40-44', '70-74',\n",
       "       '60-64', '50-54', '45-49', '18-24', '35-39', '30-34', '25-29'],\n",
       "      dtype=object)"
      ]
     },
     "execution_count": 12,
     "metadata": {},
     "output_type": "execute_result"
    }
   ],
   "source": [
    "heart_disease['AgeCategory'].unique()"
   ]
  },
  {
   "cell_type": "code",
   "execution_count": null,
   "id": "4860dfe2",
   "metadata": {},
   "outputs": [],
   "source": [
    "heart_disease.loc[(heart_disease['AgeCategory'] == '35-39') & (heart_disease['HeartDisease'] == 'Yes')] # confirmations"
   ]
  },
  {
   "cell_type": "code",
   "execution_count": null,
   "id": "93b0db9b",
   "metadata": {},
   "outputs": [],
   "source": [
    "heart_disease.loc[(heart_disease['AgeCategory'] == '35-39') & (heart_disease['Stroke'] == 'Yes')]# confirmations"
   ]
  },
  {
   "cell_type": "markdown",
   "id": "f508a4b0",
   "metadata": {},
   "source": [
    "# Code For filtering"
   ]
  },
  {
   "cell_type": "code",
   "execution_count": 13,
   "id": "10271557",
   "metadata": {},
   "outputs": [],
   "source": [
    "count_1=0\n",
    "count_2=0\n",
    "count_3=0\n",
    "count_4=0\n",
    "count_5=0\n",
    "count_6=0\n",
    "count_7=0\n",
    "count_8=0\n",
    "count_9=0\n",
    "count_10=0\n",
    "count_11=0\n",
    "count_12=0\n",
    "count_13=0\n",
    "count_14=0\n",
    "count_15=0\n",
    "count_16=0\n",
    "count_17=0\n",
    "count_18=0\n",
    "count_19=0\n",
    "count_20=0\n",
    "count_21=0\n",
    "count_22=0\n",
    "count_23=0\n",
    "count_24=0\n",
    "count_25=0\n",
    "count_26=0\n",
    "\n",
    "\n",
    "for i in range(len(heart_disease)):\n",
    "    \n",
    "    value_age_one=heart_disease.loc[i,'AgeCategory']\n",
    "    value_heart_one=heart_disease.loc[i,'HeartDisease']  #55-59\n",
    "    value_stroke_one=heart_disease.loc[i,'Stroke']\n",
    "    if value_age_one=='55-59' and  value_heart_one=='Yes':\n",
    "        count_1=count_1+1\n",
    "    if value_age_one=='55-59'and value_stroke_one=='Yes':\n",
    "        count_2=count_2+1\n",
    "    \n",
    "    value_age_two=heart_disease.loc[i,'AgeCategory']\n",
    "    value_heart_two=heart_disease.loc[i,'HeartDisease']  #80 or older\n",
    "    value_stroke_two=heart_disease.loc[i,'Stroke']\n",
    "    if value_age_two=='80 or older' and  value_heart_two=='Yes':\n",
    "        count_3=count_3+1\n",
    "    if value_age_two=='80 or older'and value_stroke_two=='Yes':\n",
    "        count_4=count_4+1\n",
    "    \n",
    "    value_age_three=heart_disease.loc[i,'AgeCategory']\n",
    "    value_heart_three=heart_disease.loc[i,'HeartDisease']  #65-69\n",
    "    value_stroke_three=heart_disease.loc[i,'Stroke']\n",
    "    if value_age_three=='65-69' and  value_heart_three=='Yes':\n",
    "        count_5=count_5+1\n",
    "    if value_age_three=='65-69'and value_stroke_three=='Yes':\n",
    "        count_6=count_6+1\n",
    "    \n",
    "    value_age_four=heart_disease.loc[i,'AgeCategory']\n",
    "    value_heart_four=heart_disease.loc[i,'HeartDisease']  #75-79\n",
    "    value_stroke_four=heart_disease.loc[i,'Stroke']\n",
    "    if value_age_four=='75-79' and  value_heart_four=='Yes':\n",
    "        count_7=count_7+1\n",
    "    if value_age_four=='75-79'and value_stroke_four=='Yes':\n",
    "        count_8=count_8+1\n",
    "\n",
    "    \n",
    "    value_age_five=heart_disease.loc[i,'AgeCategory']\n",
    "    value_heart_five=heart_disease.loc[i,'HeartDisease']  #40-44\n",
    "    value_stroke_five=heart_disease.loc[i,'Stroke']\n",
    "    if value_age_five=='40-44' and  value_heart_five=='Yes':\n",
    "        count_9=count_9+1\n",
    "    if value_age_five=='40-44'and value_stroke_five=='Yes':\n",
    "        count_10=count_10+1\n",
    "    \n",
    "    \n",
    "#####________________________________________________________________________________________________    \n",
    "    \n",
    "    \n",
    "    \n",
    "    value_age_six=heart_disease.loc[i,'AgeCategory']\n",
    "    value_heart_six=heart_disease.loc[i,'HeartDisease']  #70-74\n",
    "    value_stroke_six=heart_disease.loc[i,'Stroke']\n",
    "    if value_age_six=='70-74' and  value_heart_six=='Yes':\n",
    "        count_11=count_11+1\n",
    "    if value_age_six=='70-74'and value_stroke_six=='Yes':\n",
    "        count_12=count_12+1\n",
    "    \n",
    "    \n",
    "    value_age_seven=heart_disease.loc[i,'AgeCategory']\n",
    "    value_heart_seven=heart_disease.loc[i,'HeartDisease']  #60-64\n",
    "    value_stroke_seven=heart_disease.loc[i,'Stroke']\n",
    "    if value_age_seven=='60-64' and  value_heart_seven=='Yes':\n",
    "        count_13=count_13+1\n",
    "    if value_age_seven=='60-64'and value_stroke_seven=='Yes':\n",
    "        count_14=count_14+1\n",
    "        \n",
    "    \n",
    "    value_age_eight=heart_disease.loc[i,'AgeCategory']\n",
    "    value_heart_eight=heart_disease.loc[i,'HeartDisease']  #50-54\n",
    "    value_stroke_eight=heart_disease.loc[i,'Stroke']\n",
    "    if value_age_eight=='50-54' and  value_heart_eight=='Yes':\n",
    "        count_15=count_15+1\n",
    "    if value_age_eight=='50-54'and value_stroke_eight=='Yes':\n",
    "        count_16=count_16+1\n",
    "    \n",
    "    \n",
    "    value_age_nine=heart_disease.loc[i,'AgeCategory']\n",
    "    value_heart_nine=heart_disease.loc[i,'HeartDisease']  #45-49\n",
    "    value_stroke_nine=heart_disease.loc[i,'Stroke']\n",
    "    if value_age_nine=='45-49' and  value_heart_nine=='Yes':\n",
    "        count_17=count_17+1\n",
    "    if value_age_nine=='45-49'and value_stroke_nine=='Yes':\n",
    "        count_18=count_18+1\n",
    "    \n",
    "    \n",
    "  ###_____________________________________________________________  \n",
    "    \n",
    "  \n",
    "    \n",
    "  \n",
    "    value_age_ten=heart_disease.loc[i,'AgeCategory']\n",
    "    value_heart_ten=heart_disease.loc[i,'HeartDisease']  #18-24\n",
    "    value_stroke_ten=heart_disease.loc[i,'Stroke']\n",
    "    if value_age_ten=='18-24' and  value_heart_ten=='Yes':\n",
    "        count_19=count_19+1\n",
    "    if value_age_ten=='18-24'and value_stroke_ten=='Yes':\n",
    "        count_20=count_20+1\n",
    "    \n",
    "    \n",
    "    value_age_eleven=heart_disease.loc[i,'AgeCategory']\n",
    "    value_heart_eleven=heart_disease.loc[i,'HeartDisease']  #35-39\n",
    "    value_stroke_eleven=heart_disease.loc[i,'Stroke']\n",
    "    if value_age_eleven=='35-39' and  value_heart_eleven=='Yes':\n",
    "        count_21=count_21+1\n",
    "    if value_age_eleven=='35-39'and value_stroke_eleven=='Yes':\n",
    "        count_22=count_22+1\n",
    "        \n",
    "    \n",
    "    value_age_twelve=heart_disease.loc[i,'AgeCategory']\n",
    "    value_heart_twelve=heart_disease.loc[i,'HeartDisease']  #30-34\n",
    "    value_stroke_twelve=heart_disease.loc[i,'Stroke']\n",
    "    if value_age_twelve=='30-34' and  value_heart_twelve=='Yes':\n",
    "        count_23=count_23+1\n",
    "    if value_age_twelve=='30-34'and value_stroke_twelve=='Yes':\n",
    "        count_24=count_24+1\n",
    "    \n",
    "    \n",
    "    value_age_thirteen=heart_disease.loc[i,'AgeCategory']\n",
    "    value_heart_thirteen=heart_disease.loc[i,'HeartDisease']  #25-29\n",
    "    value_stroke_thirteen=heart_disease.loc[i,'Stroke']\n",
    "    if value_age_thirteen=='25-29' and  value_heart_thirteen=='Yes':\n",
    "        count_25=count_25+1\n",
    "    if value_age_thirteen=='25-29'and value_stroke_thirteen=='Yes':\n",
    "        count_26=count_26+1\n",
    "    "
   ]
  },
  {
   "cell_type": "code",
   "execution_count": 15,
   "id": "5d31aada",
   "metadata": {},
   "outputs": [],
   "source": [
    "heart_array=[count_1,count_3,count_5,count_7,count_9,count_11,count_13,count_15,count_17,count_19,count_21,count_23,count_25]\n",
    "stroke_array=[count_2,count_4,count_6,count_8,count_10,count_12,count_14,count_16,count_18,count_20,count_22,count_24,count_26]\n"
   ]
  },
  {
   "cell_type": "markdown",
   "id": "58157160",
   "metadata": {},
   "source": [
    "# Chi ^2 Test"
   ]
  },
  {
   "cell_type": "markdown",
   "id": "b43b1a8e",
   "metadata": {},
   "source": [
    "Hypothesis Testing:\n",
    "\n",
    "    Question: Is there a relationship between age, stroke, and heart disease? \n",
    "    Null Hypothesis- No relationship exists on this categorical data\n",
    "    Research Hypothesis- There is a relationship between the data\n",
    "    \n",
    "    Assumption: \n",
    "    1. The variable must be ordinal or nominal\n",
    "    2. The data is randomly selected"
   ]
  },
  {
   "cell_type": "markdown",
   "id": "62a0b204",
   "metadata": {},
   "source": [
    "The data is nominal or ordinal"
   ]
  },
  {
   "cell_type": "code",
   "execution_count": 20,
   "id": "18feacdc",
   "metadata": {},
   "outputs": [
    {
     "data": {
      "text/html": [
       "<div>\n",
       "<style scoped>\n",
       "    .dataframe tbody tr th:only-of-type {\n",
       "        vertical-align: middle;\n",
       "    }\n",
       "\n",
       "    .dataframe tbody tr th {\n",
       "        vertical-align: top;\n",
       "    }\n",
       "\n",
       "    .dataframe thead th {\n",
       "        text-align: right;\n",
       "    }\n",
       "</style>\n",
       "<table border=\"1\" class=\"dataframe\">\n",
       "  <thead>\n",
       "    <tr style=\"text-align: right;\">\n",
       "      <th></th>\n",
       "      <th>55-59</th>\n",
       "      <th>80 or older</th>\n",
       "      <th>65-69</th>\n",
       "      <th>75-79</th>\n",
       "      <th>40-44</th>\n",
       "      <th>70-74</th>\n",
       "      <th>60-64</th>\n",
       "      <th>50-54</th>\n",
       "      <th>45-49</th>\n",
       "      <th>18-24</th>\n",
       "      <th>35-39</th>\n",
       "      <th>30-34</th>\n",
       "      <th>25-29</th>\n",
       "    </tr>\n",
       "  </thead>\n",
       "  <tbody>\n",
       "    <tr>\n",
       "      <th>Heart Disease</th>\n",
       "      <td>2202</td>\n",
       "      <td>5449</td>\n",
       "      <td>4101</td>\n",
       "      <td>4049</td>\n",
       "      <td>486</td>\n",
       "      <td>4847</td>\n",
       "      <td>3327</td>\n",
       "      <td>1383</td>\n",
       "      <td>744</td>\n",
       "      <td>130</td>\n",
       "      <td>296</td>\n",
       "      <td>226</td>\n",
       "      <td>133</td>\n",
       "    </tr>\n",
       "    <tr>\n",
       "      <th>Stroke</th>\n",
       "      <td>1101</td>\n",
       "      <td>2298</td>\n",
       "      <td>1705</td>\n",
       "      <td>1710</td>\n",
       "      <td>293</td>\n",
       "      <td>1891</td>\n",
       "      <td>1483</td>\n",
       "      <td>685</td>\n",
       "      <td>428</td>\n",
       "      <td>61</td>\n",
       "      <td>193</td>\n",
       "      <td>131</td>\n",
       "      <td>90</td>\n",
       "    </tr>\n",
       "  </tbody>\n",
       "</table>\n",
       "</div>"
      ],
      "text/plain": [
       "               55-59  80 or older  65-69  75-79  40-44  70-74  60-64  50-54  \\\n",
       "Heart Disease   2202         5449   4101   4049    486   4847   3327   1383   \n",
       "Stroke          1101         2298   1705   1710    293   1891   1483    685   \n",
       "\n",
       "               45-49  18-24  35-39  30-34  25-29  \n",
       "Heart Disease    744    130    296    226    133  \n",
       "Stroke           428     61    193    131     90  "
      ]
     },
     "execution_count": 20,
     "metadata": {},
     "output_type": "execute_result"
    }
   ],
   "source": [
    "chi_2_test=pd.DataFrame([heart_array,stroke_array], index=['Heart Disease','Stroke'], columns=['55-59', '80 or older', '65-69', '75-79', '40-44', '70-74',\n",
    "       '60-64', '50-54', '45-49', '18-24', '35-39', '30-34', '25-29'])\n",
    "chi_2_test"
   ]
  },
  {
   "cell_type": "markdown",
   "id": "5fb1e2c7",
   "metadata": {},
   "source": [
    "The data is randomly selected"
   ]
  },
  {
   "cell_type": "code",
   "execution_count": 24,
   "id": "6ebf9515",
   "metadata": {},
   "outputs": [
    {
     "data": {
      "image/png": "[encoded data removed]",
      "text/plain": [
       "<Figure size 864x576 with 1 Axes>"
      ]
     },
     "metadata": {
      "needs_background": "light"
     },
     "output_type": "display_data"
    }
   ],
   "source": [
    "plt.figure(figsize=(12,8))\n",
    "x_value=chi_2_test.columns\n",
    "y=stroke_array\n",
    "plt.title(\"Stroke By Age Group\")\n",
    "plt.xlabel(\"Age Categories\")\n",
    "plt.ylabel(\"Stroke\")\n",
    "plt.scatter(x_value, y)\n",
    "plt.show()"
   ]
  },
  {
   "cell_type": "code",
   "execution_count": 23,
   "id": "6d697e67",
   "metadata": {},
   "outputs": [
    {
     "data": {
      "image/png": "[encoded data removed]",
      "text/plain": [
       "<Figure size 864x576 with 1 Axes>"
      ]
     },
     "metadata": {
      "needs_background": "light"
     },
     "output_type": "display_data"
    }
   ],
   "source": [
    "plt.figure(figsize=(12,8))\n",
    "x_value=chi_2_test.columns\n",
    "y=heart_array\n",
    "plt.title(\"Heart Disease By Age Group\")\n",
    "plt.xlabel(\"Age Categories\")\n",
    "plt.ylabel(\"Heart Disease\")\n",
    "plt.scatter(x_value, y)\n",
    "plt.show()"
   ]
  },
  {
   "cell_type": "code",
   "execution_count": 17,
   "id": "aeee4e38",
   "metadata": {},
   "outputs": [
    {
     "data": {
      "text/plain": [
       "(119.82287593179578,\n",
       " 6.703704118474564e-20,\n",
       " 12,\n",
       " array([[2292.30310329, 5376.46749658, 4029.40109528, 3996.78279499,\n",
       "          540.63097713, 4676.21504995, 3338.17073171, 1435.20521272,\n",
       "          813.37548806,  132.55522032,  339.36912428,  247.76028092,\n",
       "          154.76342478],\n",
       "        [1010.69689671, 2370.53250342, 1776.59890472, 1762.21720501,\n",
       "          238.36902287, 2061.78495005, 1471.82926829,  632.79478728,\n",
       "          358.62451194,   58.44477968,  149.63087572,  109.23971908,\n",
       "           68.23657522]]))"
      ]
     },
     "execution_count": 17,
     "metadata": {},
     "output_type": "execute_result"
    }
   ],
   "source": [
    "chi2_contingency(chi_2_test)"
   ]
  },
  {
   "cell_type": "markdown",
   "id": "1fa54ccc",
   "metadata": {},
   "source": [
    "# Analysis"
   ]
  },
  {
   "cell_type": "markdown",
   "id": "b8fe589b",
   "metadata": {},
   "source": [
    "Based on the analysis, the null hypothesis is rejected. There is a correaltion between age, stroke and heart disease."
   ]
  },
  {
   "cell_type": "code",
   "execution_count": null,
   "id": "41b99b6e",
   "metadata": {},
   "outputs": [],
   "source": []
  }
 ],
 "metadata": {
  "kernelspec": {
   "display_name": "Python 3 (ipykernel)",
   "language": "python",
   "name": "python3"
  },
  "language_info": {
   "codemirror_mode": {
    "name": "ipython",
    "version": 3
   },
   "file_extension": ".py",
   "mimetype": "text/x-python",
   "name": "python",
   "nbconvert_exporter": "python",
   "pygments_lexer": "ipython3",
   "version": "3.9.7"
  }
 },
 "nbformat": 4,
 "nbformat_minor": 5
}
